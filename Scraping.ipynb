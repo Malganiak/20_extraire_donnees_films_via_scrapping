{
 "cells": [
  {
   "cell_type": "markdown",
   "id": "d725c027-f774-4188-9916-64fb40cdd973",
   "metadata": {},
   "source": [
    "On démarre le projet fil rouge sur IMDB. Le but de cette séance est de découvrir la pratique du scraping, qui consiste à récupérer automatiquement des données publiques normalement visibles par des humains. Je vous laisse faire des recherches sur les notions suivantes :"
   ]
  },
  {
   "cell_type": "markdown",
   "id": "c1fe6715-4c0d-40d4-9133-fc86bb6612e0",
   "metadata": {
    "jp-MarkdownHeadingCollapsed": true
   },
   "source": [
    "# Le scraping de données, est-ce légal ? Quelles sont les bonnes pratiques ?du site web."
   ]
  },
  {
   "cell_type": "markdown",
   "id": "7358f4c8-31a0-4634-a1b7-e732e8402fcb",
   "metadata": {},
   "source": [
    "\n",
    "Légalité du scraping de données et bonnes pratiques :\n",
    "\n",
    "Le scraping de données peut être légal ou illégal, selon plusieurs facteurs, notamment le contexte, la source des données et la manière dont il est réalisé. Voici quelques bonnes pratiques à considérer :\n",
    "\n",
    "Respectez les conditions d'utilisation : Assurez-vous de lire et de comprendre les conditions d'utilisation du site web que vous envisagez de scraper. Certains sites interdisent explicitement le scraping dans leurs termes d'utilisation.\n",
    "\n",
    "Utilisez un fichier robots.txt : Consultez le fichier robots.txt du site web cible pour savoir quelles parties du site sont accessibles aux robots d'indexation et quelles parties ne le sont pas. Respectez ces directives.\n",
    "\n",
    "Évitez la surcharge du serveur : Limitez la fréquence et la vitesse de vos requêtes pour éviter de surcharger les serveurs du site web. Utilisez des délais entre les requêtes pour simuler un comportement humain.\n",
    "\n",
    "Ne violez pas les lois sur le droit d'auteur ou la confidentialité : Assurez-vous que les données que vous scrapez ne sont pas protégées par des droits d'auteur et ne violent pas la vie privée des utilisateurs.\n",
    "\n",
    "Scraping éthique : Utilisez les données collectées de manière éthique et respectueuse des droits des propriétaires du site web."
   ]
  },
  {
   "cell_type": "markdown",
   "id": "0833bd31-b513-4222-90e9-b51aaa8353fb",
   "metadata": {
    "jp-MarkdownHeadingCollapsed": true
   },
   "source": [
    "# Pourquoi le scraping peut poser problème à certains acteurs du web ?nière non autorisée."
   ]
  },
  {
   "cell_type": "markdown",
   "id": "9545ee3c-a6f5-4a3d-8058-d31eb90f4361",
   "metadata": {},
   "source": [
    "Problèmes potentiels liés au scraping pour certains acteurs du web :\n",
    "\n",
    "Le scraping peut poser problème à certains acteurs du web pour plusieurs raisons :\n",
    "\n",
    "Surcharge du serveur : Un grand nombre de requêtes de scraping peuvent surcharger les serveurs du site web, entraînant des temps d'indisponibilité ou des performances médiocres.\n",
    "\n",
    "Violations des conditions d'utilisation : Si le scraping enfreint les conditions d'utilisation du site web, cela peut entraîner des actions légales de la part du propriétaire du site.\n",
    "\n",
    "Perte de revenus : Certains sites web génèrent des revenus grâce à la vente de données ou d'annonces. Le scraping peut réduire ces revenus en accédant gratuitement aux données.\n",
    "\n",
    "Protection des données : Le scraping peut compromettre la confidentialité des données personnelles des utilisateurs si elles sont collectées de manière non "
   ]
  },
  {
   "cell_type": "markdown",
   "id": "9b223fe0-7f43-4bdc-8565-80105147ccc5",
   "metadata": {
    "jp-MarkdownHeadingCollapsed": true
   },
   "source": [
    "# Qu’est que qu’une requête HTTP? quels sont les codes HTTP? faites un point sur les codes les plus courants et que faire pour chacun d’eux.ayez plus tard."
   ]
  },
  {
   "cell_type": "markdown",
   "id": "d0043cdf-35cf-4ad4-983a-a39556dd46cf",
   "metadata": {},
   "source": [
    "Requête HTTP et codes HTTP :\n",
    "\n",
    "Une requête HTTP est une demande que votre navigateur ou une application fait à un serveur web pour récupérer des ressources, telles que des pages web, des images ou des fichiers. Les codes HTTP sont des codes de statut qui indiquent le résultat d'une requête.\n",
    "\n",
    "Codes HTTP courants :\n",
    "\n",
    "200 OK : La requête a réussi, et la réponse contient les données demandées.\n",
    "404 Not Found : La ressource demandée n'a pas été trouvée sur le serveur.\n",
    "403 Forbidden : L'accès à la ressource est interdit.\n",
    "500 Internal Server Error : Une erreur s'est produite sur le serveur.\n",
    "Que faire pour chacun d'eux :\n",
    "\n",
    "200 OK : Tout va bien, la réponse contient les données demandées.\n",
    "404 Not Found : Vérifiez l'URL et assurez-vous que la ressource existe.\n",
    "403 Forbidden : Vérifiez les autorisations ou respectez les règles du site.\n",
    "500 Internal Server Error : Cela indique un problème du côté du serveur. Attendez un moment et réessayez plus tard."
   ]
  },
  {
   "cell_type": "markdown",
   "id": "f17c31e4-48fa-44a8-ab3f-bfd43e94b3fc",
   "metadata": {
    "jp-MarkdownHeadingCollapsed": true
   },
   "source": [
    "# Qu’est-ce que le parsing par rapport au scraping ?etc."
   ]
  },
  {
   "cell_type": "markdown",
   "id": "99dc7473-52d0-42fe-be45-e12a34636768",
   "metadata": {},
   "source": [
    "\n",
    "Parsing par rapport au scraping :\n",
    "\n",
    "Scraping : Le scraping consiste à extraire des données d'un site web, généralement en utilisant des outils automatisés pour collecter des informations telles que des textes, des images, des liens, etc. Cela peut se faire en téléchargeant le contenu HTML d'une page web.\n",
    "\n",
    "Parsing : Le parsing est le processus d'analyse du contenu HTML (ou d'autres formats, comme XML) extrait d'une page web. Il consiste à extraire les informations spécifiques que vous souhaitez de la structure du code source, en utilisant des techniques telles que la recherche de balises HTML, la gestion des attributs, etc."
   ]
  },
  {
   "cell_type": "markdown",
   "id": "65fd803e-71f8-4db5-a1d4-c3fc4054a2d5",
   "metadata": {},
   "source": [
    "# Faites des recherches sur les librairies python suivantes : "
   ]
  },
  {
   "cell_type": "markdown",
   "id": "9eeef165-bf07-4fd6-92ad-debc15b52e07",
   "metadata": {
    "jp-MarkdownHeadingCollapsed": true
   },
   "source": [
    "## Requests :"
   ]
  },
  {
   "cell_type": "markdown",
   "id": "02795f38-b680-49a5-a0ac-e24d37834a43",
   "metadata": {},
   "source": [
    "Description : La bibliothèque requests est l'une des bibliothèques Python les plus populaires pour effectuer des requêtes HTTP. Elle permet aux développeurs d'envoyer des requêtes HTTP vers des serveurs web, de gérer les réponses et d'interagir avec des API web.\n",
    "\n",
    "Utilisations courantes : Elle est utilisée pour récupérer des données à partir d'API, d'URLs, de sites web, et pour effectuer des opérations telles que l'envoi de données POST, la gestion des cookies, les en-têtes personnalisés, etc.\n",
    "\n",
    "Exemple d'installation : Vous pouvez l'installer avec pip en utilisant pip install reques## Beautiful Soup :\n",
    "\n",
    "Description : Beautiful Soup est une bibliothèque Python qui facilite l'analyse de documents HTML et XML. Elle permet d'extraire des données à partir de ces documents de manière efficace en fournissant une API conviviale.\n",
    "\n",
    "Utilisations courantes : Beautiful Soup est utilisé pour parcourir et extraire des données structurées à partir de pages web, ce qui en fait un outil puissant pour le scraping web. Il peut extraire des balises, des attributs, du texte, etc., à partir du code source HTML.\n",
    "\n",
    "Exemple d'installation : Vous pouvez l'installer avec pip en utilisant pip install beautifu"
   ]
  },
  {
   "cell_type": "markdown",
   "id": "f63ea3d9-c28d-44b2-9a88-ed1f738a01a3",
   "metadata": {
    "jp-MarkdownHeadingCollapsed": true
   },
   "source": [
    "## Selenium :"
   ]
  },
  {
   "cell_type": "markdown",
   "id": "8a3f8904-c5a5-4226-b377-ac6cb800ccf0",
   "metadata": {},
   "source": [
    "Description : Selenium est une bibliothèque Python qui permet d'automatiser les interactions avec les navigateurs web. Elle est couramment utilisée pour le web scraping, les tests automatisés et l'automatisation de tâches web.\n",
    "\n",
    "Utilisations courantes : Selenium peut être utilisé pour contrôler un navigateur web (comme Chrome, Firefox, etc.) en simulant des interactions humaines telles que le clic, le remplissage de formulaires, la navigation, etc. Cela en fait un choix populaire pour le scraping de sites web qui nécessitent des actions complexes.\n",
    "\n",
    "Exemple d'installation : Vous pouvez l'installer avec pip en utilisant pip install selenium"
   ]
  },
  {
   "cell_type": "markdown",
   "id": "038ff237-5967-46c6-ac04-db57b4b978c0",
   "metadata": {
    "jp-MarkdownHeadingCollapsed": true
   },
   "source": [
    "## Outil développeur Chrome/Firefox"
   ]
  },
  {
   "cell_type": "markdown",
   "id": "baed54d2-1323-4e9f-bd7b-b4d90127b175",
   "metadata": {},
   "source": [
    "Description : Les outils de développeur intégrés dans les navigateurs web comme Google Chrome et Mozilla Firefox sont des interfaces permettant d'inspecter, déboguer et analyser le code source des pages web en temps réel. Ils offrent des fonctionnalités telles que l'inspection d'éléments HTML, la surveillance du trafic réseau, l'exécution de JavaScript, etc.\n",
    "\n",
    "Utilisations courantes : Les développeurs web utilisent ces outils pour déboguer des problèmes d'affichage, examiner le contenu des pages, analyser les requêtes HTTP, et bien plus encore. En outre, ils peuvent être utiles lors du scraping web, car ils permettent de repérer les éléments HTML cibles à extraire.\n",
    "\n",
    "Activation : Vous pouvez ouvrir les outils de développeur dans Chrome en appuyant sur F12 ou en cliquant avec le bouton droit de la souris sur une page et en sélectionnant \"Inspecter\". Dans Firefox, vous pouvez y accéder en appuyant sur Ctrl+Shift+I ou en faisant un clic droit et en sélectionnant \"Inspecter l'élément\". de Chrome/Firefox"
   ]
  },
  {
   "cell_type": "markdown",
   "id": "cf0f35d5-a25e-43be-9a16-9dc5915b393a",
   "metadata": {},
   "source": [
    "# Books.toscrape"
   ]
  },
  {
   "cell_type": "code",
   "execution_count": 1,
   "id": "22179351-4bdf-4f01-baa3-f924417140a2",
   "metadata": {},
   "outputs": [],
   "source": [
    "# Test sur http://books.toscrape.com/\n",
    "\n",
    "import requests\n",
    "from bs4 import BeautifulSoup\n",
    "\n",
    "import time\n",
    "import pandas as pd\n",
    "\n",
    "# Envoyer une requête GET pour récupérer le contenu HTML\n",
    "url = 'http://books.toscrape.com/index.html'\n",
    "response = requests.get(url)"
   ]
  },
  {
   "cell_type": "code",
   "execution_count": 2,
   "id": "1c552252-4296-4d83-884d-a12578a8460c",
   "metadata": {},
   "outputs": [],
   "source": [
    "if response.status_code == 200:\n",
    "    soup = BeautifulSoup(response.text, 'html.parser')"
   ]
  },
  {
   "cell_type": "code",
   "execution_count": 3,
   "id": "10966142-d435-45ce-a9b2-53abce139316",
   "metadata": {},
   "outputs": [],
   "source": [
    "prices = []\n",
    "\n",
    "for price in soup.find_all('p', attrs={'class':'price_color'}):\n",
    "    prices.append(price.text[1:])"
   ]
  },
  {
   "cell_type": "code",
   "execution_count": 4,
   "id": "d1a43e97-17af-4685-83b8-4f36af8885fd",
   "metadata": {},
   "outputs": [
    {
     "data": {
      "text/plain": [
       "['£51.77',\n",
       " '£53.74',\n",
       " '£50.10',\n",
       " '£47.82',\n",
       " '£54.23',\n",
       " '£22.65',\n",
       " '£33.34',\n",
       " '£17.93',\n",
       " '£22.60',\n",
       " '£52.15',\n",
       " '£13.99',\n",
       " '£20.66',\n",
       " '£17.46',\n",
       " '£52.29',\n",
       " '£35.02',\n",
       " '£57.25',\n",
       " '£23.88',\n",
       " '£37.59',\n",
       " '£51.33',\n",
       " '£45.17']"
      ]
     },
     "execution_count": 4,
     "metadata": {},
     "output_type": "execute_result"
    }
   ],
   "source": [
    "prices"
   ]
  },
  {
   "cell_type": "markdown",
   "id": "581a1300-7dba-4aac-a765-5316cf62533e",
   "metadata": {},
   "source": [
    "# IMDB"
   ]
  },
  {
   "cell_type": "code",
   "execution_count": 15,
   "id": "2ae87938-c60c-4949-8068-dc273871db79",
   "metadata": {},
   "outputs": [],
   "source": [
    "from selenium import webdriver\n",
    "# from selenium.webdriver.common.by import By"
   ]
  },
  {
   "cell_type": "code",
   "execution_count": 16,
   "id": "04d1d1b3-f20c-4b10-b8b1-f24efb32cee5",
   "metadata": {},
   "outputs": [],
   "source": [
    "driver = webdriver.Chrome()\n",
    "driver.set_window_size(1200, 800)"
   ]
  },
  {
   "cell_type": "code",
   "execution_count": 17,
   "id": "eca77356-30fa-464d-b413-965a261d87aa",
   "metadata": {},
   "outputs": [],
   "source": [
    "# Accéder à une URL\n",
    "url = 'https://www.imdb.com/'\n",
    "driver.get(url)"
   ]
  },
  {
   "cell_type": "code",
   "execution_count": 18,
   "id": "0d2612a4-5dce-4ed6-94b7-dd14890808aa",
   "metadata": {},
   "outputs": [],
   "source": [
    "html = driver.page_source"
   ]
  },
  {
   "cell_type": "code",
   "execution_count": 19,
   "id": "6f270d01-6d93-4b3b-bcd7-f184ee148819",
   "metadata": {},
   "outputs": [],
   "source": [
    "soup = BeautifulSoup(html, 'html.parser')"
   ]
  },
  {
   "cell_type": "code",
   "execution_count": 30,
   "id": "35fd6a5e-f2bd-4ddf-aa57-6fd6e9731fa7",
   "metadata": {},
   "outputs": [],
   "source": [
    "href_list = []\n",
    "\n",
    "for a in soup.find_all('a'):\n",
    "    href_list.append(a.attrs['href'])"
   ]
  },
  {
   "cell_type": "code",
   "execution_count": 21,
   "id": "15ff4a7d-8489-41d6-bb8a-67f21fb0380f",
   "metadata": {},
   "outputs": [
    {
     "data": {
      "text/plain": [
       "['/?ref_=nv_home',\n",
       " 'https://www.imdb.com/calendar/?ref_=nv_mv_cal',\n",
       " '/chart/top/?ref_=nv_mv_250',\n",
       " '/chart/moviemeter/?ref_=nv_mv_mpm',\n",
       " '/feature/genre/?ref_=nv_ch_gr',\n",
       " '/chart/boxoffice/?ref_=nv_ch_cht',\n",
       " '/showtimes/?ref_=nv_mv_sh',\n",
       " '/news/movie/?ref_=nv_nw_mv',\n",
       " '/india/toprated/?ref_=nv_mv_in',\n",
       " '/whats-on-tv/?ref_=nv_tv_ontv',\n",
       " '/chart/toptv/?ref_=nv_tvv_250',\n",
       " '/chart/tvmeter/?ref_=nv_tvv_mptv',\n",
       " '/feature/genre/',\n",
       " '/news/tv/?ref_=nv_nw_tv',\n",
       " '/what-to-watch/?ref_=nv_watch',\n",
       " '/trailers/?ref_=nv_mv_tr',\n",
       " '/originals/?ref_=nv_sf_ori',\n",
       " '/imdbpicks/?ref_=nv_pi',\n",
       " '/search/title/?title_type=podcastSeries&ref_=nv_pod',\n",
       " '/oscars/?ref_=nv_ev_csegosc',\n",
       " '/emmys/?ref_=nv_ev_csegemy',\n",
       " '/toronto/?ref_=nv_ev_csegtiff',\n",
       " '/imdbpicks/hispanic-heritage-month/?ref_=nv_ev_cseghhm',\n",
       " '/starmeterawards/?ref_=nv_ev_sma',\n",
       " '/awards-central/?ref_=nv_ev_awrd',\n",
       " '/festival-central/?ref_=nv_ev_csegfest',\n",
       " '/event/all/?ref_=nv_ev_all',\n",
       " '/feature/bornondate/?ref_=nv_cel_brn',\n",
       " '/chart/starmeter/?ref_=nv_cel_m',\n",
       " '/news/celebrity/?ref_=nv_cel_nw',\n",
       " 'https://help.imdb.com/imdb?ref_=cons_nb_hlp',\n",
       " 'https://contribute.imdb.com/czone?ref_=nv_cm_cz',\n",
       " '/poll/?ref_=nv_cm_pl',\n",
       " 'https://pro.imdb.com?ref_=cons_nb_hm&rf=cons_nb_hm',\n",
       " '/?ref_=nv_home',\n",
       " 'https://help.imdb.com/article/issues/GM7RXFVEA64VLJFV?ref_=loc_nav_sel_hlp',\n",
       " '/?ref_=nv_home',\n",
       " 'https://www.imdb.com/search/?ref_=nv_sr_menu_adv',\n",
       " 'https://pro.imdb.com/login/ap?u=/login/lwa&imdbPageAction=signUp&rf=cons_nb_hm&ref_=cons_nb_hm',\n",
       " '/list/watchlist?ref_=nv_usr_wl_all_0',\n",
       " '/registration/signin?ref=nv_generic_lgin&u=%2F',\n",
       " '/registration/signin?ref_=signup_cm_nc_ca_btn&u=%2F',\n",
       " '/registration/signin?ref_=signup_cm_nc_ca&u=%2F',\n",
       " 'https://help.imdb.com/article/issues/GM7RXFVEA64VLJFV?ref_=loc_nav_sel_hlp',\n",
       " '/list/ls053181649/videoplayer/vi300336921?ref_=hp_hp_e_15',\n",
       " '/list/ls053181649/videoplayer/vi2968110873?ref_=hp_hp_e_1',\n",
       " '/list/ls053181649/videoplayer/vi1191167769?ref_=hp_hp_e_2',\n",
       " '/list/ls053181649/videoplayer/vi3035154201?ref_=hp_hp_e_3',\n",
       " '/list/ls053181649/videoplayer/vi2900674329?ref_=hp_hp_e_4',\n",
       " '/list/ls053181649/videoplayer/vi1894106905?ref_=hp_hp_e_5',\n",
       " '/trailers/?ref_=hm_hp_sm',\n",
       " '/whats-on-tv/power-couples/rg3319700224/mediaviewer/rm2943770113?ref_=hm_edcft_ft_g_hpc_1_i',\n",
       " '/whats-on-tv/power-couples/rg3319700224/mediaviewer/rm2943770113?ref_=hm_edcft_ft_g_hpc_1_t',\n",
       " '/whats-on-tv/power-couples/rg3319700224/mediaviewer/rm2943770113?ref_=hm_edcft_c_ft_g_hpc_1_cta',\n",
       " '/gallery/rg3677002496/mediaviewer/rm1040669697?ref_=hm_edcft_ft_g_ts_2_i',\n",
       " '/gallery/rg3677002496/mediaviewer/rm1040669697?ref_=hm_edcft_ft_g_ts_2_t',\n",
       " '/gallery/rg3677002496/mediaviewer/rm1040669697?ref_=hm_edcft_c_ft_g_ts_2_cta',\n",
       " '/whats-on-tv/renew-cancel/ls063853872/mediaviewer/rm1374003713?ref_=hm_edcft_ft_ls_rc_3_i',\n",
       " '/whats-on-tv/renew-cancel/ls063853872/mediaviewer/rm1374003713?ref_=hm_edcft_ft_ls_rc_3_t',\n",
       " '/whats-on-tv/renew-cancel/ls063853872/mediaviewer/rm1374003713?ref_=hm_edcft_c_ft_ls_rc_3_cta',\n",
       " '/festival-central/red-carpet-fashion/rg2064161536/mediaviewer/rm1375951873?ref_=hm_edcft_csegfest_g_rcf_4_i',\n",
       " '/festival-central/red-carpet-fashion/rg2064161536/mediaviewer/rm1375951873?ref_=hm_edcft_csegfest_g_rcf_4_t',\n",
       " '/festival-central/red-carpet-fashion/rg2064161536/mediaviewer/rm1375951873?ref_=hm_edcft_c_csegfest_g_rcf_4_cta',\n",
       " '/event/ev0003172/2023/1/?ref_=hm_edcft_vma_redirect_5_i',\n",
       " '/event/ev0003172/2023/1/?ref_=hm_edcft_vma_redirect_5_t',\n",
       " '/event/ev0003172/2023/1/?ref_=hm_edcft_c_vma_redirect_5_cta',\n",
       " '/gallery/rg1859820288/mediaviewer/rm3656015105?ref_=hm_edcft_ft_g_ls_6_i',\n",
       " '/gallery/rg1859820288/mediaviewer/rm3656015105?ref_=hm_edcft_ft_g_ls_6_t',\n",
       " '/gallery/rg1859820288/mediaviewer/rm3656015105?ref_=hm_edcft_c_ft_g_ls_6_cta',\n",
       " '/imdbpicks/latest-posters/rg1624939264/mediaviewer/rm1516068609?ref_=hm_edcft_hp_g_lp_7_i',\n",
       " '/imdbpicks/latest-posters/rg1624939264/mediaviewer/rm1516068609?ref_=hm_edcft_hp_g_lp_7_t',\n",
       " '/imdbpicks/latest-posters/rg1624939264/mediaviewer/rm1516068609?ref_=hm_edcft_c_hp_g_lp_7_cta',\n",
       " '/list/ls525435171/?ref_=hm_edcft_fc_csegfest_tiffguide_8_i',\n",
       " '/list/ls525435171/?ref_=hm_edcft_fc_csegfest_tiffguide_8_t',\n",
       " '/list/ls525435171/?ref_=hm_edcft_c_fc_csegfest_tiffguide_8_cta',\n",
       " '/gallery/rg1641716480/mediaviewer/rm637230337?ref_=hm_edcft_ft_g_pwl_9_i',\n",
       " '/gallery/rg1641716480/mediaviewer/rm637230337?ref_=hm_edcft_ft_g_pwl_9_t',\n",
       " '/gallery/rg1641716480/mediaviewer/rm637230337?ref_=hm_edcft_c_ft_g_pwl_9_cta',\n",
       " '/what-to-watch?ref_=hm_watch_btn',\n",
       " '/what-to-watch/watch-guides/?ref_=hm_watch_wchgd',\n",
       " '/what-to-watch/popular/?ref_=hm_watch_pop',\n",
       " '/video/vi3489384217/?listId=ls025720609&ref_=hm_edcio_og_ots_gt_1_i',\n",
       " '/video/vi3489384217/?listId=ls025720609&ref_=hm_edcio_og_ots_gt_1_t',\n",
       " '/list/ls025720609/videoplayer/vi3489384217?ref_=hm_edcio_c_og_ots_gt_1_cta',\n",
       " '/video/vi2833434393/?listId=ls025720609&ref_=hm_edcio_og_ots_twot_2_i',\n",
       " '/video/vi2833434393/?listId=ls025720609&ref_=hm_edcio_og_ots_twot_2_t',\n",
       " '/list/ls025720609/videoplayer/vi2833434393?ref_=hm_edcio_c_og_ots_twot_2_cta',\n",
       " '/video/vi1191167769/?listId=ls025720609&ref_=hm_edcio_og_5tw_pilot23_3_i',\n",
       " '/video/vi1191167769/?listId=ls025720609&ref_=hm_edcio_og_5tw_pilot23_3_t',\n",
       " '/list/ls025720609/videoplayer/vi1191167769?ref_=hm_edcio_c_og_5tw_pilot23_3_cta',\n",
       " '/video/vi300336921/?listId=ls025720609&ref_=hm_edcio_og_twbest_4_i',\n",
       " '/video/vi300336921/?listId=ls025720609&ref_=hm_edcio_og_twbest_4_t',\n",
       " '/list/ls025720609/videoplayer/vi300336921?ref_=hm_edcio_c_og_twbest_4_cta',\n",
       " '/video/vi2900674329/?listId=ls025720609&ref_=hm_edcio_og_ots_twot2_5_i',\n",
       " '/video/vi2900674329/?listId=ls025720609&ref_=hm_edcio_og_ots_twot2_5_t',\n",
       " '/list/ls025720609/videoplayer/vi2900674329?ref_=hm_edcio_c_og_ots_twot2_5_cta',\n",
       " 'https://slyb.app.link/SKdyQ6A449',\n",
       " '/registration/signin?ref_=reg_ftr&u=%2F',\n",
       " '/registration/signin?ref_=reg_ftr&u=%2F',\n",
       " 'https://www.tiktok.com/@imdb',\n",
       " 'https://instagram.com/imdb',\n",
       " 'https://twitter.com/imdb',\n",
       " 'https://youtube.com/imdb/',\n",
       " 'https://facebook.com/imdb',\n",
       " 'https://slyb.app.link/SKdyQ6A449',\n",
       " 'https://help.imdb.com/imdb',\n",
       " 'https://help.imdb.com/article/imdb/general-information/imdb-site-index/GNCX7BHNSPBTFALQ#so',\n",
       " 'https://pro.imdb.com?ref_=cons_tf_pro&rf=cons_tf_pro',\n",
       " 'https://www.boxofficemojo.com',\n",
       " 'https://developer.imdb.com/',\n",
       " 'https://www.imdb.com/pressroom/?ref_=ft_pr',\n",
       " 'https://advertising.amazon.com/resources/ad-specs/imdb/',\n",
       " 'https://www.amazon.jobs/en/teams/imdb',\n",
       " '/conditions?ref_=ft_cou',\n",
       " '/privacy?ref_=ft_pvc',\n",
       " '/privacy/adpreferences/?ref_=ft_adpref',\n",
       " '/privacy/adpreferences/?ref_=ft_adpref']"
      ]
     },
     "execution_count": 21,
     "metadata": {},
     "output_type": "execute_result"
    }
   ],
   "source": [
    "href_list"
   ]
  },
  {
   "cell_type": "markdown",
   "id": "053f946f-98f8-4c33-bc54-c666c4337ac5",
   "metadata": {},
   "source": [
    "Essayez de récupérer les titres 10000 films les mieux notés des dernières années\n",
    "\n",
    "Récupérez leur description / les anecdotes de tournages / les infos techniques (réalisateurs, acteurs, techniciens)"
   ]
  },
  {
   "cell_type": "code",
   "execution_count": 32,
   "id": "2d764ad2-55b8-411d-8c03-61622241783c",
   "metadata": {},
   "outputs": [],
   "source": [
    "from selenium import webdriver"
   ]
  },
  {
   "cell_type": "code",
   "execution_count": 33,
   "id": "14678d9e-e090-4a59-acd0-75486704482a",
   "metadata": {},
   "outputs": [],
   "source": [
    "driver = webdriver.Chrome()\n",
    "driver.set_window_size(1200, 800)"
   ]
  },
  {
   "cell_type": "code",
   "execution_count": 34,
   "id": "ce54be8d-2b08-498b-9561-07ec9960be75",
   "metadata": {},
   "outputs": [],
   "source": [
    "# Accéder à une URL\n",
    "url = 'https://www.imdb.com/chart/top/?ref_=nv_mv_250'\n",
    "driver.get(url)"
   ]
  },
  {
   "cell_type": "code",
   "execution_count": 35,
   "id": "c5e121b1-f81d-4336-a736-a27e7c91f516",
   "metadata": {},
   "outputs": [],
   "source": [
    "html = driver.page_source"
   ]
  },
  {
   "cell_type": "code",
   "execution_count": 36,
   "id": "021e3826-eae3-4efe-bbfb-ca48c6e60779",
   "metadata": {},
   "outputs": [],
   "source": [
    "soup = BeautifulSoup(html, 'html.parser')"
   ]
  },
  {
   "cell_type": "code",
   "execution_count": 39,
   "id": "eaac674d-5b54-4f2d-a60f-02bc304bd4dd",
   "metadata": {},
   "outputs": [
    {
     "name": "stdout",
     "output_type": "stream",
     "text": [
      "['Graphiques IMDb', '1. Les évadés', '2. Le Parrain', '3. The Dark Knight : Le Chevalier noir', '4. Le Parrain, 2ᵉ partie', '5. 12 Hommes en colère', '6. La liste de Schindler', '7. Le Seigneur des anneaux : Le Retour du roi', '8. Pulp Fiction', \"9. Le Seigneur des anneaux : La Communauté de l'anneau\", '10. Le Bon, la brute, le truand', '11. Forrest Gump', '12. Fight Club', '13. Le Seigneur des anneaux : Les Deux Tours', '14. Inception', \"15. L'Empire contre-attaque\", '16. Matrix', '17. Les affranchis', \"18. Vol au-dessus d'un nid de coucou\", '19. Spider-Man: Across the Spider-Verse', '20. Seven', '21. La vie est belle', '22. Les 7 Samouraïs', '23. Le Silence des agneaux', '24. Interstellar', '25. Il faut sauver le soldat Ryan', '26. La cité de Dieu', '27. La vie est belle', '28. La ligne verte', '29. Star Wars: Épisode IV - Un nouvel espoir', '30. Terminator 2 : Le jugement dernier', '31. Retour vers le futur', '32. Le voyage de Chihiro', '33. Le pianiste', '34. Psychose', '35. Parasite', '36. Gladiator', '37. Le Roi Lion', '38. Léon', '39. American History X', '40. Les infiltrés', '41. Oppenheimer', '42. Whiplash', '43. Le Prestige', '44. Usual Suspects', '45. Le tombeau des lucioles', '46. Harakiri', '47. Casablanca', '48. Intouchables', '49. Les temps modernes', '50. Cinéma Paradiso', \"51. Il était une fois dans l'Ouest\", '52. Fenêtre sur cour', '53. Alien - Le 8ème passager', '54. Les lumières de la ville', '55. Apocalypse Now', '56. Memento', '57. Django Unchained', \"58. Les Aventuriers de l'arche perdue\", '59. WALL·E', '60. La vie des autres', '61. Boulevard du Crépuscule', '62. Les sentiers de la gloire', '63. Avengers: Infinity War', '64. Shining', '65. Le dictateur', '66. Témoin à charge', '67. Spider-Man: New Generation', '68. Aliens : Le Retour', '69. The Dark Knight Rises', '70. American Beauty', '71. Inglourious Basterds', \"72. Dr. Folamour ou : Comment j'ai appris à ne plus m'en faire et à aimer la bombe !\", '73. Old Boy', '74. Coco', '75. Amadeus', '76. Toy Story', '77. Le Bateau', '78. Braveheart', '79. Avengers: Endgame', '80. Joker', '81. Princesse Mononoké', '82. Will Hunting', '83. Il était une fois en Amérique', '84. Your Name.', '85. 3 Idiots', \"86. Entre le ciel et l'enfer\", '87. Chantons sous la pluie', '88. Requiem for a Dream', '89. Capharnaüm', '90. Toy Story 3', '91. Requiem pour un massacre - Va et regarde', '92. Le Retour du Jedi', '93. Eternal Sunshine of the Spotless Mind', \"94. 2001 : L'Odyssée de l'espace\", '95. La chasse', '96. Reservoir Dogs', '97. Vivre', \"98. Lawrence d'Arabie\", '99. Citizen Kane', '100. M le maudit', '101. La garçonnière', '102. La mort aux trousses', '103. Sueurs froides', '104. Assurance sur la mort', \"105. Le fabuleux destin d'Amélie Poulain\", '106. Scarface', '107. Full Metal Jacket', '108. Orange mécanique', '109. Incendies', '110. Hamilton', '111. Heat', '112. Là-haut', '113. Du silence et des ombres...', \"114. L'Arnaque\", '115. Une séparation', '116. Indiana Jones et la dernière croisade', '117. Metropolis', '118. Piège de cristal', '119. Le voleur de bicyclette', '120. L.A. Confidential', '121. Snatch - Tu braques ou tu raques', '122. Taare Zameen Par', '123. Taxi Driver', '124. 1917', '125. La chute', '126. Dangal', '127. Top Gun: Maverick', '128. ...et pour quelques dollars de plus', '129. Batman Begins', \"130. Certains l'aiment chaud\", '131. Le Kid', '132. Le loup de Wall Street', '133. The Father', '134. Green Book: Sur les routes du sud', '135. Ève...', '136. Jugement à Nuremberg', '137. The Truman Show', '138. There Will Be Blood', '139. Ran', '140. Casino', '141. Shutter Island', '142. Le labyrinthe de Pan', '143. Sixième sens', '144. Impitoyable', '145. Jurassic Park', \"146. Un homme d'exception\", '147. Le Trésor de la Sierra Madre', '148. Le garde du corps', '149. No Country for Old Men', '150. Monty Python : Sacré Graal !', '151. Kill Bill: Volume I', '152. La Grande Évasion', '153. The Thing', '154. Rashomon', '155. Le Monde de Nemo', '156. Elephant Man', '157. Chinatown', '158. Autant en emporte le vent', '159. Spider-Man: No Way Home', '160. V pour vendetta', '161. Le château ambulant', '162. Le crime était presque parfait', '163. Raging Bull', '164. Arnaques, crimes et botanique', '165. Dans ses yeux', '166. Vice-versa', '167. Prisoners', '168. 3 Billboards: Les panneaux de la vengeance', '169. Le pont de la rivière Kwaï', '170. Trainspotting', '171. Fargo', '172. Warrior', '173. Gran Torino', '174. Arrête-moi si tu peux', '175. Mon voisin Totoro', '176. Million Dollar Baby', '177. La légende de Klaus', '178. Harry Potter et les Reliques de la Mort : partie 2', '179. Les enfants du ciel', '180. Blade Runner', '181. 12 Years a Slave', '182. Before Sunrise', \"183. La ruée vers l'or\", '184. The Grand Budapest hotel', '185. Ben-Hur', '186. Gone Girl', '187. Barry Lyndon', '188. Sur les quais...', '189. Tu ne tueras point', '190. Au nom du père', '191. Le mécano de la Générale', \"192. Voyage au bout de l'enfer\", '193. Memories of Murder', '194. Les fraises sauvages', '195. Le salaire de la peur', '196. Le troisième homme', '197. Les Nouveaux Sauvages', '198. Sherlock Junior', '199. Mad Max: Fury Road', '200. Le Cercle des poètes disparus', '201. Mr. Smith au sénat', '202. Monstres & Cie', '203. Dragons', '204. Les Dents de la mer', '205. Mary et Max.', '206. Le septième sceau', '207. Room', \"208. Le Mans '66\", '209. The Big Lebowski', '210. Voyage à Tokyo', '211. Ratatouille', '212. Rocky', '213. Hôtel Rwanda', \"214. La passion de Jeanne d'Arc\", '215. Logan', '216. Platoon', '217. Spotlight', '218. Terminator', '219. Jai Bhim', '220. Before Sunset', '221. Rush', '222. Network - Main basse sur la TV', '223. Stand by Me : Compte sur moi', '224. Les Plus Belles Années de notre vie', '225. La haine', \"226. Le Magicien d'Oz\", '227. Into the Wild', \"228. L'Exorciste\", '229. Pirates des Caraïbes : La malédiction du Black Pearl', '230. Les Indestructibles', '231. Jeu dangereux', '232. Les raisins de la colère', '233. Hatchi', '234. Un jour sans fin', '235. Mon père et mon fils', '236. Mademoiselle', \"237. La bataille d'Alger\", '238. Amours chiennes', '239. Rebecca', '240. Luke la main froide', '241. La mélodie du bonheur', '242. La complainte du sentier', '243. New York - Miami', '244. Le géant de fer', '245. La couleur des sentiments', '246. Les Quatre Cents Coups', '247. Persona', '248. Monty Python : La Vie de Brian', '249. Aladdin', '250. Danse avec les loups', 'Vous avez évalué', 'Découvrir', 'Graphiques', 'Top du box-office (États-Unis)', 'Films les plus regardés', 'Films anglais les mieux notés', 'Séries les plus populaires', 'Les 250 meilleures séries', 'Films les moins bien notés', 'Célébrités les plus populaires', 'Actualités cinéma', 'Films les mieux notés par genre', 'Récemment consultés']\n"
     ]
    }
   ],
   "source": [
    "titres = []\n",
    "\n",
    "for titre in soup.find_all('h3', attrs={'class':'ipc-title__text'}):\n",
    "    titres.append(titre.text)\n",
    "print(titres)    "
   ]
  },
  {
   "cell_type": "code",
   "execution_count": null,
   "id": "6ce89db2-eb43-44fa-9dec-3f50c8980a6d",
   "metadata": {},
   "outputs": [],
   "source": []
  }
 ],
 "metadata": {
  "kernelspec": {
   "display_name": "Python 3 (ipykernel)",
   "language": "python",
   "name": "python3"
  },
  "language_info": {
   "codemirror_mode": {
    "name": "ipython",
    "version": 3
   },
   "file_extension": ".py",
   "mimetype": "text/x-python",
   "name": "python",
   "nbconvert_exporter": "python",
   "pygments_lexer": "ipython3",
   "version": "3.11.3"
  }
 },
 "nbformat": 4,
 "nbformat_minor": 5
}
